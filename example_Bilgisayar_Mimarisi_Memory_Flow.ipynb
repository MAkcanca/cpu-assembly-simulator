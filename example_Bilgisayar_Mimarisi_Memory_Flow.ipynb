{
  "nbformat": 4,
  "nbformat_minor": 0,
  "metadata": {
    "colab": {
      "name": "Bilgisayar Mimarisi - Memory Flow.ipynb",
      "provenance": [],
      "collapsed_sections": []
    },
    "kernelspec": {
      "name": "python3",
      "display_name": "Python 3"
    }
  },
  "cells": [
    {
      "cell_type": "markdown",
      "metadata": {
        "id": "y3XZeO_Bvuq-"
      },
      "source": [
        "## Bilgisayar Mimarisi\r\n",
        "### Assembly Register Simülatörü"
      ]
    },
    {
      "cell_type": "code",
      "metadata": {
        "id": "XiDJjUGLv0n7"
      },
      "source": [
        "class CPU:\r\n",
        "  def __init__(self, komutlar, pc=1, memory={}):\r\n",
        "    self.komutlar = komutlar\r\n",
        "    self.pc = pc\r\n",
        "    self.mar = None\r\n",
        "    self.mbr = None\r\n",
        "    self.ir = None\r\n",
        "    self.acc = None\r\n",
        "    self.al = None\r\n",
        "    self.bl = None\r\n",
        "    self.memory = memory\r\n",
        "\r\n",
        "  def yazdir(self):\r\n",
        "    print(f'PC: {self.pc} '\\\r\n",
        "          f'MAR: {self.mar} '\\\r\n",
        "          f'MBR: {self.mbr} '\\\r\n",
        "          f'IR: {self.ir} '\\\r\n",
        "          f'ACC: {self.acc} '\\\r\n",
        "          f'AL: {self.al} '\\\r\n",
        "          f'BL: {self.bl}')\r\n",
        "  \r\n",
        "  def akis1(self):\r\n",
        "      self.mar = self.pc\r\n",
        "      self.mbr = f'I{self.pc}'\r\n",
        "      self.ir = f'I{self.pc}'\r\n",
        "      self.pc += 1\r\n",
        "      self.yazdir()\r\n",
        "    \r\n",
        "  def calistir(self):\r\n",
        "    self.yazdir()\r\n",
        "    for komut in self.komutlar:\r\n",
        "      komut_islem, komut_veri = komut.split(\" \")\r\n",
        "\r\n",
        "      if komut_islem == \"LOAD\":\r\n",
        "        self.akis1()\r\n",
        "        self.acc = memory.get(komut_veri)\r\n",
        "        self.mar = komut_veri\r\n",
        "        self.yazdir()\r\n",
        "      elif komut_islem == \"MOV\":\r\n",
        "        self.akis1()\r\n",
        "        hedef, kaynak = komut_veri.split(\",\")\r\n",
        "        if hedef == \"AL\":\r\n",
        "          if kaynak == \"BL\":\r\n",
        "            self.al = self.bl\r\n",
        "          else:\r\n",
        "            if kaynak[0] == \"#\":\r\n",
        "              self.al = int(kaynak[1:])\r\n",
        "            elif kaynak[0] == \"@\":\r\n",
        "              kaynak = kaynak[1:]\r\n",
        "              self.mar = kaynak\r\n",
        "              self.mbr = self.memory.get(kaynak)\r\n",
        "              self.yazdir()\r\n",
        "              self.mar = self.mbr\r\n",
        "              self.mbr = self.memory.get(self.mbr)\r\n",
        "              self.al = self.mbr\r\n",
        "            else:\r\n",
        "              self.mar = kaynak\r\n",
        "              self.mbr = self.memory.get(kaynak)\r\n",
        "              self.al = self.memory.get(kaynak)\r\n",
        "        if hedef == \"BL\":\r\n",
        "          if kaynak == \"AL\":\r\n",
        "            self.bl = self.al\r\n",
        "          else:\r\n",
        "            if kaynak[0] == \"#\":\r\n",
        "              self.bl = int(kaynak[1:])\r\n",
        "            elif kaynak[0] == \"@\":\r\n",
        "              kaynak = kaynak[1:]\r\n",
        "              self.mar = kaynak\r\n",
        "              self.mbr = self.memory.get(kaynak)\r\n",
        "              self.yazdir()\r\n",
        "              self.mar = self.mbr\r\n",
        "              self.mbr = self.memory.get(self.mbr)\r\n",
        "              self.al = self.mbr\r\n",
        "            else:\r\n",
        "              self.mar = kaynak\r\n",
        "              self.mbr = self.memory.get(kaynak)\r\n",
        "              self.bl = self.memory.get(kaynak)\r\n",
        "        self.yazdir()\r\n",
        "      elif komut_islem == \"ADD\":\r\n",
        "        self.akis1()\r\n",
        "        hedef, kaynak = komut_veri.split(\",\")\r\n",
        "        if (hedef == \"AL\" or hedef == \"BL\") and (kaynak == \"AL\" or kaynak == \"BL\"):\r\n",
        "          self.acc = int(self.al) + int(self.bl)\r\n",
        "        else:\r\n",
        "          access_memory_hedef, access_memory_kaynak = False, False\r\n",
        "          if hedef.isdigit():\r\n",
        "            access_memory_hedef = True\r\n",
        "          if kaynak.isdigit():\r\n",
        "            access_memory_kaynak = True\r\n",
        "          if hedef == \"AL\":\r\n",
        "            hedef = self.al\r\n",
        "          if hedef == \"BL\":\r\n",
        "            hedef = self.bl\r\n",
        "          if kaynak == \"AL\":\r\n",
        "            kaynak = self.al\r\n",
        "          if kaynak == \"BL\":\r\n",
        "            kaynak = self.bl\r\n",
        "          hedef = str(hedef)\r\n",
        "          kaynak = str(kaynak)\r\n",
        "          if hedef[0] == \"#\":\r\n",
        "            hedef = hedef[1:]\r\n",
        "          if kaynak[0] == \"#\":\r\n",
        "            kaynak = kaynak[1:]\r\n",
        "          if access_memory_hedef:\r\n",
        "            self.mar = hedef\r\n",
        "            self.mbr = self.memory.get(self.mar)\r\n",
        "            hedef = self.mbr\r\n",
        "          # aynı anda ikisi de olunca düzgün çalışmayabilir\r\n",
        "          if access_memory_kaynak:\r\n",
        "            self.mar = kaynak\r\n",
        "            self.mbr = self.memory.get(self.mar)\r\n",
        "            kaynak = self.mbr\r\n",
        "          self.acc = int(kaynak) + int(hedef)\r\n",
        "        self.yazdir()\r\n",
        "      elif komut_islem == \"STO\":\r\n",
        "        self.akis1()\r\n",
        "        if komut_veri[0] == \"@\":\r\n",
        "          komut_veri = komut_veri[1:]\r\n",
        "          self.mar = komut_veri\r\n",
        "          self.mbr = self.memory.get(komut_veri)\r\n",
        "          self.yazdir()\r\n",
        "          self.mar = self.mbr\r\n",
        "          self.memory[self.mar] = self.acc\r\n",
        "        else:\r\n",
        "          self.mar = komut_veri\r\n",
        "          self.memory[komut_veri] = self.acc\r\n",
        "        self.yazdir()\r\n",
        "\r\n",
        "\r\n",
        "    self.akis1()"
      ],
      "execution_count": 169,
      "outputs": []
    },
    {
      "cell_type": "code",
      "metadata": {
        "colab": {
          "base_uri": "https://localhost:8080/"
        },
        "id": "shE4uWUTxgup",
        "outputId": "86941fe8-cec8-463a-b9b6-c5ec62cb3c3a"
      },
      "source": [
        "memory = {\"10021\" : 2013, \r\n",
        "          \"10020\": \"10022\", \r\n",
        "          \"10022\": \"10025\", \r\n",
        "          \"10025\": 1453}\r\n",
        "komutlar = [\"LOAD 10021\", \"MOV AL,10025\", \"MOV BL,AL\", \"MOV AL,@10020\", \"ADD AL,BL\", \"STO 10022\"]\r\n",
        "\r\n",
        "islemci1 = CPU(komutlar, pc=10010, memory=memory)\r\n",
        "islemci1.calistir()"
      ],
      "execution_count": 170,
      "outputs": [
        {
          "output_type": "stream",
          "text": [
            "PC: 10010 MAR: None MBR: None IR: None ACC: None AL: None BL: None\n",
            "PC: 10011 MAR: 10010 MBR: I10010 IR: I10010 ACC: None AL: None BL: None\n",
            "PC: 10011 MAR: 10021 MBR: I10010 IR: I10010 ACC: 2013 AL: None BL: None\n",
            "PC: 10012 MAR: 10011 MBR: I10011 IR: I10011 ACC: 2013 AL: None BL: None\n",
            "PC: 10012 MAR: 10025 MBR: 1453 IR: I10011 ACC: 2013 AL: 1453 BL: None\n",
            "PC: 10013 MAR: 10012 MBR: I10012 IR: I10012 ACC: 2013 AL: 1453 BL: None\n",
            "PC: 10013 MAR: 10012 MBR: I10012 IR: I10012 ACC: 2013 AL: 1453 BL: 1453\n",
            "PC: 10014 MAR: 10013 MBR: I10013 IR: I10013 ACC: 2013 AL: 1453 BL: 1453\n",
            "PC: 10014 MAR: 10020 MBR: 10022 IR: I10013 ACC: 2013 AL: 1453 BL: 1453\n",
            "PC: 10014 MAR: 10022 MBR: 10025 IR: I10013 ACC: 2013 AL: 10025 BL: 1453\n",
            "PC: 10015 MAR: 10014 MBR: I10014 IR: I10014 ACC: 2013 AL: 10025 BL: 1453\n",
            "PC: 10015 MAR: 10014 MBR: I10014 IR: I10014 ACC: 11478 AL: 10025 BL: 1453\n",
            "PC: 10016 MAR: 10015 MBR: I10015 IR: I10015 ACC: 11478 AL: 10025 BL: 1453\n",
            "PC: 10016 MAR: 10022 MBR: I10015 IR: I10015 ACC: 11478 AL: 10025 BL: 1453\n",
            "PC: 10017 MAR: 10016 MBR: I10016 IR: I10016 ACC: 11478 AL: 10025 BL: 1453\n"
          ],
          "name": "stdout"
        }
      ]
    },
    {
      "cell_type": "code",
      "metadata": {
        "colab": {
          "base_uri": "https://localhost:8080/"
        },
        "id": "AFoyngNDxtBJ",
        "outputId": "d4d14283-7fc9-4fbe-872d-18d29d92510c"
      },
      "source": [
        "memory = {\"13\": 23, \"23\": 13}\r\n",
        "komutlar = [\"MOV AL,13\", \"ADD AL,23\", \"STO 33\"]\r\n",
        "\r\n",
        "islemci1 = CPU(komutlar, memory=memory)\r\n",
        "islemci1.calistir()"
      ],
      "execution_count": 171,
      "outputs": [
        {
          "output_type": "stream",
          "text": [
            "PC: 1 MAR: None MBR: None IR: None ACC: None AL: None BL: None\n",
            "PC: 2 MAR: 1 MBR: I1 IR: I1 ACC: None AL: None BL: None\n",
            "PC: 2 MAR: 13 MBR: 23 IR: I1 ACC: None AL: 23 BL: None\n",
            "PC: 3 MAR: 2 MBR: I2 IR: I2 ACC: None AL: 23 BL: None\n",
            "PC: 3 MAR: 23 MBR: 13 IR: I2 ACC: 36 AL: 23 BL: None\n",
            "PC: 4 MAR: 3 MBR: I3 IR: I3 ACC: 36 AL: 23 BL: None\n",
            "PC: 4 MAR: 33 MBR: I3 IR: I3 ACC: 36 AL: 23 BL: None\n",
            "PC: 5 MAR: 4 MBR: I4 IR: I4 ACC: 36 AL: 23 BL: None\n"
          ],
          "name": "stdout"
        }
      ]
    },
    {
      "cell_type": "code",
      "metadata": {
        "colab": {
          "base_uri": "https://localhost:8080/"
        },
        "id": "zcvnqMS3-qn8",
        "outputId": "87f8575f-53fb-459e-c993-8f019e54fad0"
      },
      "source": [
        "memory = {\"13\": 123, \"23\": 223}\r\n",
        "komutlar = [\"MOV AL,#23\", \"MOV BL,13\", \"ADD AL,BL\"]\r\n",
        "\r\n",
        "islemci1 = CPU(komutlar, memory=memory)\r\n",
        "islemci1.calistir()"
      ],
      "execution_count": 172,
      "outputs": [
        {
          "output_type": "stream",
          "text": [
            "PC: 1 MAR: None MBR: None IR: None ACC: None AL: None BL: None\n",
            "PC: 2 MAR: 1 MBR: I1 IR: I1 ACC: None AL: None BL: None\n",
            "PC: 2 MAR: 1 MBR: I1 IR: I1 ACC: None AL: 23 BL: None\n",
            "PC: 3 MAR: 2 MBR: I2 IR: I2 ACC: None AL: 23 BL: None\n",
            "PC: 3 MAR: 13 MBR: 123 IR: I2 ACC: None AL: 23 BL: 123\n",
            "PC: 4 MAR: 3 MBR: I3 IR: I3 ACC: None AL: 23 BL: 123\n",
            "PC: 4 MAR: 3 MBR: I3 IR: I3 ACC: 146 AL: 23 BL: 123\n",
            "PC: 5 MAR: 4 MBR: I4 IR: I4 ACC: 146 AL: 23 BL: 123\n"
          ],
          "name": "stdout"
        }
      ]
    },
    {
      "cell_type": "code",
      "metadata": {
        "colab": {
          "base_uri": "https://localhost:8080/"
        },
        "id": "kB7F28NvHZC1",
        "outputId": "a8cd31e7-4e55-4351-b5a9-7f84ecb40540"
      },
      "source": [
        "memory = {\"13\": 33, \"23\": 123, \"33\": 333}\r\n",
        "komutlar = [\"MOV BL,33\", \"ADD 23,#23\", \"STO 13\"]\r\n",
        "\r\n",
        "islemci1 = CPU(komutlar, memory=memory)\r\n",
        "islemci1.calistir()"
      ],
      "execution_count": 173,
      "outputs": [
        {
          "output_type": "stream",
          "text": [
            "PC: 1 MAR: None MBR: None IR: None ACC: None AL: None BL: None\n",
            "PC: 2 MAR: 1 MBR: I1 IR: I1 ACC: None AL: None BL: None\n",
            "PC: 2 MAR: 33 MBR: 333 IR: I1 ACC: None AL: None BL: 333\n",
            "PC: 3 MAR: 2 MBR: I2 IR: I2 ACC: None AL: None BL: 333\n",
            "PC: 3 MAR: 23 MBR: 123 IR: I2 ACC: 146 AL: None BL: 333\n",
            "PC: 4 MAR: 3 MBR: I3 IR: I3 ACC: 146 AL: None BL: 333\n",
            "PC: 4 MAR: 13 MBR: I3 IR: I3 ACC: 146 AL: None BL: 333\n",
            "PC: 5 MAR: 4 MBR: I4 IR: I4 ACC: 146 AL: None BL: 333\n"
          ],
          "name": "stdout"
        }
      ]
    },
    {
      "cell_type": "code",
      "metadata": {
        "colab": {
          "base_uri": "https://localhost:8080/"
        },
        "id": "sic2RsJFJ8uY",
        "outputId": "355ca926-553f-4bdf-bd1e-fb04552ee3d0"
      },
      "source": [
        "memory = {\"33021\": \"66044\", \"33023\": \"33021\"}\r\n",
        "komutlar = [\"LOAD 33023\", \"MOV AL,33023\", \"MOV BL,#33023\", \"ADD AL,BL\", \"STO @33023\"]\r\n",
        "\r\n",
        "islemci1 = CPU(komutlar, memory=memory, pc=33011)\r\n",
        "islemci1.calistir()"
      ],
      "execution_count": 174,
      "outputs": [
        {
          "output_type": "stream",
          "text": [
            "PC: 33011 MAR: None MBR: None IR: None ACC: None AL: None BL: None\n",
            "PC: 33012 MAR: 33011 MBR: I33011 IR: I33011 ACC: None AL: None BL: None\n",
            "PC: 33012 MAR: 33023 MBR: I33011 IR: I33011 ACC: 33021 AL: None BL: None\n",
            "PC: 33013 MAR: 33012 MBR: I33012 IR: I33012 ACC: 33021 AL: None BL: None\n",
            "PC: 33013 MAR: 33023 MBR: 33021 IR: I33012 ACC: 33021 AL: 33021 BL: None\n",
            "PC: 33014 MAR: 33013 MBR: I33013 IR: I33013 ACC: 33021 AL: 33021 BL: None\n",
            "PC: 33014 MAR: 33013 MBR: I33013 IR: I33013 ACC: 33021 AL: 33021 BL: 33023\n",
            "PC: 33015 MAR: 33014 MBR: I33014 IR: I33014 ACC: 33021 AL: 33021 BL: 33023\n",
            "PC: 33015 MAR: 33014 MBR: I33014 IR: I33014 ACC: 66044 AL: 33021 BL: 33023\n",
            "PC: 33016 MAR: 33015 MBR: I33015 IR: I33015 ACC: 66044 AL: 33021 BL: 33023\n",
            "PC: 33016 MAR: 33023 MBR: 33021 IR: I33015 ACC: 66044 AL: 33021 BL: 33023\n",
            "PC: 33016 MAR: 33021 MBR: 33021 IR: I33015 ACC: 66044 AL: 33021 BL: 33023\n",
            "PC: 33017 MAR: 33016 MBR: I33016 IR: I33016 ACC: 66044 AL: 33021 BL: 33023\n"
          ],
          "name": "stdout"
        }
      ]
    },
    {
      "cell_type": "code",
      "metadata": {
        "colab": {
          "base_uri": "https://localhost:8080/"
        },
        "id": "gQVWBLmMyKMV",
        "outputId": "9cebfe59-bf8f-4087-80c7-320bb70a876e"
      },
      "source": [
        "memory = {\"123\": \"10\", \"5\": \"123\", \"12\":\"314\"}\r\n",
        "komutlar = [\"LOAD 123\", \"MOV AL,12\", \"STO @5\"]\r\n",
        "\r\n",
        "islemci1 = CPU(komutlar, memory=memory, pc=1)\r\n",
        "islemci1.calistir()"
      ],
      "execution_count": 175,
      "outputs": [
        {
          "output_type": "stream",
          "text": [
            "PC: 1 MAR: None MBR: None IR: None ACC: None AL: None BL: None\n",
            "PC: 2 MAR: 1 MBR: I1 IR: I1 ACC: None AL: None BL: None\n",
            "PC: 2 MAR: 123 MBR: I1 IR: I1 ACC: 10 AL: None BL: None\n",
            "PC: 3 MAR: 2 MBR: I2 IR: I2 ACC: 10 AL: None BL: None\n",
            "PC: 3 MAR: 12 MBR: 314 IR: I2 ACC: 10 AL: 314 BL: None\n",
            "PC: 4 MAR: 3 MBR: I3 IR: I3 ACC: 10 AL: 314 BL: None\n",
            "PC: 4 MAR: 5 MBR: 123 IR: I3 ACC: 10 AL: 314 BL: None\n",
            "PC: 4 MAR: 123 MBR: 123 IR: I3 ACC: 10 AL: 314 BL: None\n",
            "PC: 5 MAR: 4 MBR: I4 IR: I4 ACC: 10 AL: 314 BL: None\n"
          ],
          "name": "stdout"
        }
      ]
    },
    {
      "cell_type": "code",
      "metadata": {
        "id": "U8dwK6q441M0"
      },
      "source": [
        ""
      ],
      "execution_count": null,
      "outputs": []
    }
  ]
}